{
 "cells": [
  {
   "cell_type": "markdown",
   "id": "2af4d0f1-9695-40f7-81fe-40b06dcfc23b",
   "metadata": {},
   "source": [
    "# Humanities data-analysis == https://www.humanitiesdataanalysis.org/vector-space-model/notebook.html\n",
    "\n",
    "## Example work from site for Corpus and language technology course"
   ]
  },
  {
   "cell_type": "code",
   "execution_count": null,
   "id": "f1e65b1f-763d-40dc-b051-7281948ad42e",
   "metadata": {},
   "outputs": [],
   "source": [
    "\n",
    "\n",
    "\n",
    "\n",
    "#import tokenizer\n",
    "import nltk\n",
    "import nltk.tokenize\n",
    "\n",
    "\n",
    "#import regex\n",
    "import re\n",
    "\n",
    "#import collections counter\n",
    "import collections\n",
    "\n",
    "#import numpy for mapping\n",
    "import numpy as np"
   ]
  },
  {
   "cell_type": "code",
   "execution_count": null,
   "id": "14b524e3-ba03-4b9f-8d2c-fb6a8d957e82",
   "metadata": {},
   "outputs": [],
   "source": [
    "import nltk\n",
    "import nltk.tokenize\n",
    "\n",
    "# download the most recent punkt package\n",
    "nltk.download('punkt', quiet=True)\n"
   ]
  },
  {
   "cell_type": "code",
   "execution_count": null,
   "id": "c6962c21-4e22-4101-b145-5e7ae9d36fae",
   "metadata": {},
   "outputs": [],
   "source": [
    "corpus = [\"D'où me vient ce désordre, Aufide, et que veut dire\",\n",
    "          \"Madame, il était temps qu'il vous vînt du secours:\",\n",
    "          \"Ah! Monsieur, c'est donc vous?\",\n",
    "          \"Ami, j'ai beau rêver, toute ma rêverie\",\n",
    "          \"Ne me parle plus tant de joie et d'hyménée;\",\n",
    "          \"Il est vrai, Cléobule, et je veux l'avouer,\",\n",
    "          \"Laisse-moi mon chagrin, tout injuste qu'il est;\",\n",
    "          \"Ton frère, je l'avoue, a beaucoup de mérite;\",\n",
    "          \"J'en demeure d'accord, chacun a sa méthode;\",\n",
    "          'Pour prix de votre amour que vous peignez extrême,']"
   ]
  },
  {
   "cell_type": "markdown",
   "id": "ca25a34e-6263-42a6-b83f-1913519179a3",
   "metadata": {},
   "source": [
    "## BELOW ALL FUNCS"
   ]
  },
  {
   "cell_type": "code",
   "execution_count": null,
   "id": "41c38179-ae68-48d8-94f1-a5db8f7fe947",
   "metadata": {},
   "outputs": [],
   "source": [
    "import re\n",
    "\n",
    "\n",
    "PUNCT_RE = re.compile(r'[^\\w\\s]+$')\n",
    "\n",
    "\n",
    "def is_punct(string):\n",
    "    \"\"\"Check if STRING is a punctuation marker or a sequence of\n",
    "       punctuation markers.\n",
    "\n",
    "    Arguments:\n",
    "        string (str): a string to check for punctuation markers.\n",
    "\n",
    "    Returns:\n",
    "        bool: True is string is a (sequence of) punctuation marker(s),\n",
    "            False otherwise.\n",
    "\n",
    "    Examples:\n",
    "        >>> is_punct(\"!\")\n",
    "        True\n",
    "        >>> is_punct(\"Bonjour!\")\n",
    "        False\n",
    "        >>> is_punct(\"¿Te gusta el verano?\")\n",
    "        False\n",
    "        >>> is_punct(\"...\")\n",
    "        True\n",
    "        >>> is_punct(\"«»...\")\n",
    "        True\n",
    "\n",
    "    \"\"\"\n",
    "    return PUNCT_RE.match(string) is not None"
   ]
  },
  {
   "cell_type": "code",
   "execution_count": null,
   "id": "83357cb8-4852-4690-b640-e9c12bf93177",
   "metadata": {},
   "outputs": [],
   "source": [
    "def preprocess_text(text, language, lowercase=True):\n",
    "    \"\"\"Preprocess a text.\n",
    "\n",
    "    Perform a text preprocessing procedure, which transforms a string\n",
    "    object into a list of word tokens without punctuation markers.\n",
    "\n",
    "    Arguments:\n",
    "        text (str): a string representing a text.\n",
    "        language (str): a string specifying the language of text.\n",
    "        lowercase (bool, optional): Set to True to lowercase all\n",
    "            word tokens. Defaults to True.\n",
    "\n",
    "    Returns:\n",
    "        list: a list of word tokens extracted from text, excluding\n",
    "            punctuation.\n",
    "\n",
    "    Examples:\n",
    "        >>> preprocess_text(\"Ah! Monsieur, c'est donc vous?\", 'french')\n",
    "        [\"ah\", \"monsieur\", \"c'est\", \"donc\", \"vous\"]\n",
    "\n",
    "    \"\"\"\n",
    "    if lowercase:\n",
    "        text = text.lower()\n",
    "    tokens = nltk.tokenize.word_tokenize(text, language=language)\n",
    "    tokens = [token for token in tokens if not is_punct(token)]\n",
    "    return tokens"
   ]
  },
  {
   "cell_type": "code",
   "execution_count": null,
   "id": "005c2ce6-711f-4f3d-b392-058c3e3ac222",
   "metadata": {},
   "outputs": [],
   "source": [
    "def extract_vocabulary(tokenized_corpus, min_count=1, max_count=float('inf')):\n",
    "    \"\"\"Extract a vocabulary from a tokenized corpus.\n",
    "\n",
    "    Arguments:\n",
    "        tokenized_corpus (list): a tokenized corpus represented, list\n",
    "            of lists of strings.\n",
    "        min_count (int, optional): the minimum occurrence count of a\n",
    "            vocabulary item in the corpus.\n",
    "        max_count (int, optional): the maximum occurrence count of a\n",
    "            vocabulary item in the corpus. Defaults to inf.\n",
    "\n",
    "    Returns:\n",
    "        list: An alphabetically ordered list of unique words in the\n",
    "            corpus, of which the frequencies adhere to the specified\n",
    "            minimum and maximum count.\n",
    "\n",
    "    Examples:\n",
    "        >>> corpus = [['the', 'man', 'love', 'man', 'the'],\n",
    "                      ['the', 'love', 'book', 'wise', 'drama'],\n",
    "                      ['a', 'story', 'book', 'drama']]\n",
    "        >>> extract_vocabulary(corpus, min_count=2)\n",
    "        ['book', 'drama', 'love', 'man', 'the']\n",
    "\n",
    "    \"\"\"\n",
    "    vocabulary = collections.Counter()\n",
    "    for document in tokenized_corpus:\n",
    "        vocabulary.update(document)\n",
    "    vocabulary = {word for word, count in vocabulary.items()\n",
    "                  if count >= min_count and count <= max_count}\n",
    "    return sorted(vocabulary)"
   ]
  },
  {
   "cell_type": "code",
   "execution_count": null,
   "id": "070787f9-5f03-44b9-9375-3b1a6e237901",
   "metadata": {},
   "outputs": [],
   "source": [
    "def corpus2dtm(tokenized_corpus, vocabulary):\n",
    "    \"\"\"Transform a tokenized corpus into a document-term matrix.\n",
    "\n",
    "    Arguments:\n",
    "        tokenized_corpus (list): a tokenized corpus as a list of\n",
    "        lists of strings. vocabulary (list): A list of unique words.\n",
    "\n",
    "    Returns:\n",
    "        list: A list of lists representing the frequency of each term\n",
    "              in `vocabulary` for each document in the corpus.\n",
    "\n",
    "    Examples:\n",
    "        >>> tokenized_corpus = [['the', 'man', 'man', 'smart'],\n",
    "                                ['a', 'the', 'man' 'love'],\n",
    "                                ['love', 'book', 'journey']]\n",
    "        >>> vocab = ['book', 'journey', 'man', 'love']\n",
    "        >>> corpus2dtm(tokenized_corpus, vocabulary)\n",
    "        [[0, 0, 2, 0], [0, 0, 1, 1], [1, 1, 0, 1]]\n",
    "\n",
    "    \"\"\"\n",
    "    document_term_matrix = []\n",
    "    for document in tokenized_corpus:\n",
    "        document_counts = collections.Counter(document)\n",
    "        row = [document_counts[word] for word in vocabulary]\n",
    "        document_term_matrix.append(row)\n",
    "    return document_term_matrix\n",
    "\n",
    "\n",
    "document_term_matrix = corpus2dtm(tokenized_corpus, vocabulary)"
   ]
  },
  {
   "cell_type": "code",
   "execution_count": null,
   "id": "cf18ab80-0a13-4fda-8e35-2b1bad0987a9",
   "metadata": {},
   "outputs": [],
   "source": [
    "tokens = nltk.tokenize.word_tokenize(corpus[2], language='french')\n",
    "\n",
    "# Loop with a standard for-loop\n",
    "tokenized = []\n",
    "for token in tokens:\n",
    "    if not is_punct(token):\n",
    "        tokenized.append(token)\n",
    "print(tokenized)\n",
    "\n",
    "# Loop with a list comprehension\n",
    "tokenized = [token for token in tokens if not is_punct(token)]\n",
    "print(tokenized)"
   ]
  },
  {
   "cell_type": "code",
   "execution_count": null,
   "id": "ad0f91c3-302a-4bc4-b1cd-01ded1313664",
   "metadata": {},
   "outputs": [],
   "source": [
    "for document in corpus[2:4]:\n",
    "    print('Original:', document)\n",
    "    print('Tokenized:', preprocess_text(document, 'french'))"
   ]
  },
  {
   "cell_type": "code",
   "execution_count": null,
   "id": "e59b1db1-a8cb-4ad9-8bb2-833a488b3e90",
   "metadata": {},
   "outputs": [],
   "source": [
    "import collections\n",
    "\n",
    "vocabulary = collections.Counter()\n",
    "for document in corpus:\n",
    "    vocabulary.update(preprocess_text(document, 'french'))"
   ]
  },
  {
   "cell_type": "code",
   "execution_count": null,
   "id": "773d46ed-24f6-4d39-bd1e-29ea49e19d04",
   "metadata": {},
   "outputs": [],
   "source": [
    "print(vocabulary.most_common(n=5))"
   ]
  },
  {
   "cell_type": "code",
   "execution_count": null,
   "id": "b1344016-ba3d-43ee-bd18-4a69ffb1cd58",
   "metadata": {},
   "outputs": [],
   "source": [
    "print('Original vocabulary size:', len(vocabulary))\n",
    "pruned_vocabulary = {token for token, count in vocabulary.items() if count > 1}\n",
    "print(pruned_vocabulary)\n",
    "print('Pruned vocabulary size:', len(pruned_vocabulary))"
   ]
  },
  {
   "cell_type": "code",
   "execution_count": null,
   "id": "2493faa4-019d-4aa6-812a-ea36cc47e7d8",
   "metadata": {},
   "outputs": [],
   "source": [
    "n = 5\n",
    "print('Original vocabulary size:', len(vocabulary))\n",
    "pruned_vocabulary = {token for token, _ in vocabulary.most_common()[n:]}\n",
    "print('Pruned vocabulary size:', len(pruned_vocabulary))"
   ]
  },
  {
   "cell_type": "code",
   "execution_count": null,
   "id": "501d5229-4408-4881-acf3-21ae4e54981c",
   "metadata": {},
   "outputs": [],
   "source": [
    "tokenized_corpus = [preprocess_text(document, 'french') for document in corpus]\n",
    "vocabulary = extract_vocabulary(tokenized_corpus)"
   ]
  },
  {
   "cell_type": "code",
   "execution_count": null,
   "id": "be58a3d5-5e09-4d0c-81e3-5bb945996598",
   "metadata": {},
   "outputs": [],
   "source": [
    "bags_of_words = []\n",
    "for document in tokenized_corpus:\n",
    "    tokens = [word for word in document if word in vocabulary]\n",
    "    bags_of_words.append(collections.Counter(tokens))\n",
    "\n",
    "print(bags_of_words[2])"
   ]
  },
  {
   "cell_type": "code",
   "execution_count": null,
   "id": "4783a698-b21c-4850-b093-984fa260b56f",
   "metadata": {},
   "outputs": [],
   "source": [
    "import numpy as np\n",
    "\n",
    "document_term_matrix = np.array(document_term_matrix)\n",
    "print(document_term_matrix.shape)"
   ]
  },
  {
   "cell_type": "code",
   "execution_count": null,
   "id": "814e2843-d597-4a57-bdbc-39f3e1592f62",
   "metadata": {},
   "outputs": [],
   "source": [
    "import os\n",
    "import lxml.etree\n",
    "import tarfile\n",
    "\n",
    "tf = tarfile.open('data/03-vector-space-model/data/theatre-classique.tar.gz', 'r')\n",
    "tf.extractall('data')\n",
    "\n",
    "subgenres = ('Comédie', 'Tragédie', 'Tragi-comédie')\n",
    "\n",
    "plays, titles, genres = [], [], []\n",
    "for fn in os.scandir('data/03-vector-space-model/data/theatre-classique/'):\n",
    "    # Only include XML files\n",
    "    if not fn.name.endswith('.xml'):\n",
    "        continue\n",
    "    tree = lxml.etree.parse(fn.path)\n",
    "    genre = tree.find('//genre')\n",
    "    title = tree.find('//title')\n",
    "    if genre is not None and genre.text in subgenres:\n",
    "        lines = []\n",
    "        for line in tree.xpath('//l|//p'):\n",
    "            lines.append(' '.join(line.itertext()))\n",
    "        text = '\\n'.join(lines)\n",
    "        plays.append(text)\n",
    "        genres.append(genre.text)\n",
    "        titles.append(title.text)"
   ]
  },
  {
   "cell_type": "code",
   "execution_count": null,
   "id": "7d857e8e-6cad-403f-8866-b2b10479de46",
   "metadata": {},
   "outputs": [],
   "source": [
    "import matplotlib.pyplot as plt\n",
    "\n",
    "counts = collections.Counter(genres)\n",
    "\n",
    "fig, ax = plt.subplots()\n",
    "ax.bar(counts.keys(), counts.values(), width=0.3)\n",
    "ax.set(xlabel=\"genre\", ylabel=\"count\");"
   ]
  },
  {
   "cell_type": "code",
   "execution_count": 34,
   "id": "cbdf490f-f8ce-4f27-b974-e89103f1045c",
   "metadata": {},
   "outputs": [
    {
     "name": "stdout",
     "output_type": "stream",
     "text": [
      "Running..\n",
      "document-term matrix with |D| = 498 documents and |V| = 48047 words.\n"
     ]
    }
   ],
   "source": [
    "print(\"Running..\")\n",
    "plays_tok = [preprocess_text(play, 'french') for play in plays]\n",
    "vocabulary = extract_vocabulary(plays_tok, min_count=2)\n",
    "document_term_matrix = np.array(corpus2dtm(plays_tok, vocabulary))\n",
    "\n",
    "print(f\"document-term matrix with \"\n",
    "      f\"|D| = {document_term_matrix.shape[0]} documents and \"\n",
    "      f\"|V| = {document_term_matrix.shape[1]} words.\")"
   ]
  },
  {
   "cell_type": "code",
   "execution_count": 38,
   "id": "3dc89aaa-9787-4bbf-8a88-69c3c04497bf",
   "metadata": {},
   "outputs": [
    {
     "name": "stdout",
     "output_type": "stream",
     "text": [
      "27899\n",
      "40503\n"
     ]
    }
   ],
   "source": [
    "monsieur_idx = vocabulary.index('monsieur')\n",
    "sang_idx = vocabulary.index('sang')\n",
    "\n",
    "monsieur_counts = document_term_matrix[:, monsieur_idx]\n",
    "sang_counts = document_term_matrix[:, sang_idx]\n",
    "print(monsieur_idx)\n",
    "print(sang_idx)"
   ]
  },
  {
   "cell_type": "code",
   "execution_count": 42,
   "id": "5c13b471-2247-4964-9113-23553bdd3fe7",
   "metadata": {},
   "outputs": [],
   "source": [
    "genres = np.array(genres)"
   ]
  },
  {
   "cell_type": "code",
   "execution_count": 43,
   "id": "bbe3104d-6bb0-43ef-9798-bbc2226cb90f",
   "metadata": {},
   "outputs": [
    {
     "data": {
      "text/plain": [
       "<matplotlib.legend.Legend at 0x7ff7fbf60070>"
      ]
     },
     "execution_count": 43,
     "metadata": {},
     "output_type": "execute_result"
    },
    {
     "data": {
      "image/png": "[encoded data removed]",
      "text/plain": [
       "<Figure size 640x480 with 1 Axes>"
      ]
     },
     "metadata": {},
     "output_type": "display_data"
    }
   ],
   "source": [
    "fig, ax = plt.subplots()\n",
    "\n",
    "for genre in ('Comédie', 'Tragédie', 'Tragi-comédie'):\n",
    "    ax.scatter(monsieur_counts[genres == genre],\n",
    "    sang_counts[genres == genre],\n",
    "    label = genre, alpha = 0.7)\n",
    "\n",
    "ax.set(xlabel='moniseur', ylabel='sang')\n",
    "plt.legend()"
   ]
  },
  {
   "cell_type": "code",
   "execution_count": null,
   "id": "f3732e35-ccd9-4086-a5f3-9a986119f95b",
   "metadata": {},
   "outputs": [],
   "source": []
  }
 ],
 "metadata": {
  "kernelspec": {
   "display_name": "Python 3 (ipykernel)",
   "language": "python",
   "name": "python3"
  },
  "language_info": {
   "codemirror_mode": {
    "name": "ipython",
    "version": 3
   },
   "file_extension": ".py",
   "mimetype": "text/x-python",
   "name": "python",
   "nbconvert_exporter": "python",
   "pygments_lexer": "ipython3",
   "version": "3.10.12"
  }
 },
 "nbformat": 4,
 "nbformat_minor": 5
}
